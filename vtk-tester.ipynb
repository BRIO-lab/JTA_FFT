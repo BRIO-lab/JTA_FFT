{
 "cells": [
  {
   "cell_type": "code",
   "execution_count": 1,
   "metadata": {},
   "outputs": [],
   "source": [
    "import vtk\n",
    "from JTA_FFT import *\n",
    "import numpy as np"
   ]
  },
  {
   "cell_type": "code",
   "execution_count": 2,
   "metadata": {},
   "outputs": [],
   "source": [
    "renderer = vtk.vtkRenderer()\n",
    "\n",
    "cam = renderer.GetActiveCamera()\n",
    "\n",
    "cam.SetFocalPoint(0,0,1)"
   ]
  },
  {
   "cell_type": "code",
   "execution_count": 9,
   "metadata": {},
   "outputs": [],
   "source": [
    "fcoord = 1 + 28j\n",
    "\n",
    "np.arctan2(fcoord.imag, fcoord.real)\n",
    "\n",
    "asdfasfd = 23"
   ]
  },
  {
   "cell_type": "code",
   "execution_count": 11,
   "metadata": {},
   "outputs": [
    {
     "name": "stdout",
     "output_type": "stream",
     "text": [
      "no need\n"
     ]
    }
   ],
   "source": [
    "try:\n",
    "    del(asdfasfd)\n",
    "    print(\"dere do be a need\")\n",
    "except:\n",
    "    print(\"no need\")"
   ]
  }
 ],
 "metadata": {
  "interpreter": {
   "hash": "2bceb06609590509505fd7322ee93ae8f136ffe4549c928827b56f5da0a9e5f4"
  },
  "kernelspec": {
   "display_name": "Python 3.7.1 64-bit ('FFT': conda)",
   "language": "python",
   "name": "python3"
  },
  "language_info": {
   "codemirror_mode": {
    "name": "ipython",
    "version": 3
   },
   "file_extension": ".py",
   "mimetype": "text/x-python",
   "name": "python",
   "nbconvert_exporter": "python",
   "pygments_lexer": "ipython3",
   "version": "3.7.1"
  },
  "orig_nbformat": 4
 },
 "nbformat": 4,
 "nbformat_minor": 2
}
