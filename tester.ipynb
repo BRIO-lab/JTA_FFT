{
 "cells": [
  {
   "cell_type": "code",
   "execution_count": 1,
   "metadata": {},
   "outputs": [],
   "source": [
    "\n",
    "## JTA_FFT.py\n",
    "# Copyright (c) Scott Banks banks@ufl.edu, Andrew Jensen andrewjensen321@gmail.com\n",
    "\n",
    "# Imports\n",
    "# from typing import OrderedDict\n",
    "#from numpy.fft.helper import fftshift\n",
    "#from numpy.lib.nanfunctions import _nansum_dispatcher\n",
    "from PIL import Image\n",
    "import vtk\n",
    "import numpy as np\n",
    "import math\n",
    "from vtk.util import numpy_support\n",
    "import cv2\n",
    "from scipy.interpolate import splprep, splev\n",
    "import matplotlib.pyplot as plt\n",
    "import pickle\n",
    "from skimage import io\n",
    "from collections import OrderedDict\n",
    "import os\n",
    "from rotation_utility import *\n",
    "import time \n",
    "import nvtx\n",
    "import scipy.interpolate as si\n",
    "import open3d as o3d"
   ]
  },
  {
   "cell_type": "code",
   "execution_count": 9,
   "metadata": {},
   "outputs": [
    {
     "name": "stdout",
     "output_type": "stream",
     "text": [
      "12 1 4\n",
      "[ 1  2  3  4  5  6  7  8  9 10 11 12  1  2  3  4]\n"
     ]
    }
   ],
   "source": [
    "arr1 = np.array([1,2,3,4,5,6,7,8,9,10,11,12])\n",
    "deg = 3\n",
    "count = len(arr1)\n",
    "factor,fraction = divmod(count+deg+1,count)\n",
    "print(count,factor,fraction)\n",
    "arr3 = np.concatenate((arr1,)*factor + (arr1[:fraction],))\n",
    "print(arr3)"
   ]
  }
 ],
 "metadata": {
  "interpreter": {
   "hash": "7f15d65455e33eb186d6dbc678b28179abf04c1e632f32d6183964ecfb6ae657"
  },
  "kernelspec": {
   "display_name": "Python 3.7.12 ('FFT')",
   "language": "python",
   "name": "python3"
  },
  "language_info": {
   "codemirror_mode": {
    "name": "ipython",
    "version": 3
   },
   "file_extension": ".py",
   "mimetype": "text/x-python",
   "name": "python",
   "nbconvert_exporter": "python",
   "pygments_lexer": "ipython3",
   "version": "3.7.12"
  },
  "orig_nbformat": 4
 },
 "nbformat": 4,
 "nbformat_minor": 2
}
