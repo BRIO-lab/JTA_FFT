{
 "cells": [
  {
   "cell_type": "code",
   "execution_count": 2,
   "metadata": {},
   "outputs": [],
   "source": []
  },
  {
   "cell_type": "code",
   "execution_count": 3,
   "metadata": {},
   "outputs": [],
   "source": [
    "def myFunction(n):\n",
    "    return sum(range(1,n + 1))"
   ]
  },
  {
   "cell_type": "code",
   "execution_count": 4,
   "metadata": {},
   "outputs": [
    {
     "name": "stdout",
     "output_type": "stream",
     "text": [
      "50000005000000\n"
     ]
    }
   ],
   "source": [
    "functionArg = 10000000\n",
    "print(myFunction(functionArg))"
   ]
  },
  {
   "cell_type": "code",
   "execution_count": 5,
   "metadata": {},
   "outputs": [
    {
     "name": "stdout",
     "output_type": "stream",
     "text": [
      "0 :  50000005000000\n",
      "1 :  50000005000000\n",
      "2 :  50000005000000\n",
      "3 :  50000005000000\n",
      "4 :  50000005000000\n",
      "5 :  50000005000000\n",
      "6 :  50000005000000\n",
      "7 :  50000005000000\n",
      "8 :  50000005000000\n",
      "9 :  50000005000000\n"
     ]
    }
   ],
   "source": [
    "# Excecute myFunction 10 times with a normal for loop\n",
    "for i in range(0, 10):\n",
    "    print(i, \": \",  myFunction(functionArg))"
   ]
  },
  {
   "cell_type": "code",
   "execution_count": 6,
   "metadata": {},
   "outputs": [],
   "source": [
    "pool_obj = multiprocessing.Pool(5)\n",
    "print(pool_obj.map(myFunction,range(0, 10)))\n"
   ]
  }
 ],
 "metadata": {
  "interpreter": {
   "hash": "ecf5722fdaf1897a315d257d89d94520bfcaa453217d5becf09b39e73618b0de"
  },
  "kernelspec": {
   "display_name": "Python 3.9.5 ('base')",
   "language": "python",
   "name": "python3"
  },
  "language_info": {
   "codemirror_mode": {
    "name": "ipython",
    "version": 3
   },
   "file_extension": ".py",
   "mimetype": "text/x-python",
   "name": "python",
   "nbconvert_exporter": "python",
   "pygments_lexer": "ipython3",
   "version": "3.9.5"
  },
  "orig_nbformat": 4
 },
 "nbformat": 4,
 "nbformat_minor": 2
}
