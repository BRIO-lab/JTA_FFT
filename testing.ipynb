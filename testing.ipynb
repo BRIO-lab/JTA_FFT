{
 "cells": [
  {
   "cell_type": "code",
   "execution_count": 1,
   "metadata": {},
   "outputs": [],
   "source": [
    "import numpy as np\n",
    "import os\n",
    "import glob\n",
    "from JTA_FFT import JTA_FFT\n",
    "import cv2"
   ]
  },
  {
   "cell_type": "markdown",
   "metadata": {},
   "source": [
    "## Loading in Library from Lima Study"
   ]
  },
  {
   "cell_type": "code",
   "execution_count": 2,
   "metadata": {},
   "outputs": [],
   "source": [
    "centroid_library = np.load(\"lima_files/dc_fem.npy\")\n",
    "mag_library = np.load(\"lima_files/mag_fem.npy\")\n",
    "angle_library = np.load(\"lima_files/lib-angle_fem.npy\")\n",
    "NFD_library = np.load(\"lima_files/surface_fem.npy\")\n",
    "rot_indices = np.load(\"lima_files/rot_indices.npy\")"
   ]
  },
  {
   "cell_type": "markdown",
   "metadata": {},
   "source": [
    "## Load in Image, Calibration File and Create a `JTA_FFT` object"
   ]
  },
  {
   "cell_type": "code",
   "execution_count": 3,
   "metadata": {},
   "outputs": [],
   "source": [
    "img = cv2.imread(\"lima_files/fem_test_prediction_grid_Lima_000000000010.tif\", cv2.IMREAD_GRAYSCALE)\n",
    "\n",
    "FFT = JTA_FFT(\"lima_files/calibration.txt\")"
   ]
  },
  {
   "cell_type": "markdown",
   "metadata": {},
   "source": [
    "## Run through Creating a Contour and NFD instance of the image"
   ]
  },
  {
   "cell_type": "code",
   "execution_count": 4,
   "metadata": {},
   "outputs": [
    {
     "name": "stderr",
     "output_type": "stream",
     "text": [
      "C:\\Users\\ajensen123\\.conda\\envs\\FFT\\lib\\site-packages\\scipy\\interpolate\\_fitpack_impl.py:227: RuntimeWarning: Setting x[0][754]=x[0][0]\n",
      "  (i, m, i)))\n"
     ]
    }
   ],
   "source": [
    "x,y = FFT.create_contour(img)\n",
    "centroid_instance, mag_instance, angle_instance, NFD_instance = FFT.get_NFD(x,y)"
   ]
  },
  {
   "cell_type": "markdown",
   "metadata": {},
   "source": [
    "## Testing out the Pose Estimates From the given values"
   ]
  },
  {
   "cell_type": "code",
   "execution_count": 5,
   "metadata": {},
   "outputs": [
    {
     "name": "stdout",
     "output_type": "stream",
     "text": [
      "(556.5146419551538+529.7579450838617j)\n",
      "[11] [9]\n",
      "[37.86472233] [-7.47336364]\n",
      "3.4159384609384396 0.8512799925027127 -1063.0882795632706 34.80409814955047 2.9999794662015256 -3.0000540257349613\n"
     ]
    }
   ],
   "source": [
    "x, y, z, zr, xr, yr = FFT.estimate_pose(\n",
    "    rot_indices, centroid_library, mag_library, angle_library, NFD_library,\n",
    "    centroid_instance, mag_instance, angle_instance, NFD_instance)\n",
    "\n",
    "print(x,y,z,zr,xr,yr)\n",
    "\n"
   ]
  },
  {
   "cell_type": "code",
   "execution_count": 6,
   "metadata": {},
   "outputs": [],
   "source": [
    "test_cent = centroid_instance / 128 - (512 + 512j)\n",
    "\n",
    "xtest = test_cent.real\n",
    "ytest = test_cent.imag"
   ]
  }
 ],
 "metadata": {
  "interpreter": {
   "hash": "2bceb06609590509505fd7322ee93ae8f136ffe4549c928827b56f5da0a9e5f4"
  },
  "kernelspec": {
   "display_name": "Python 3.7.1 64-bit ('FFT': conda)",
   "name": "python3"
  },
  "language_info": {
   "codemirror_mode": {
    "name": "ipython",
    "version": 3
   },
   "file_extension": ".py",
   "mimetype": "text/x-python",
   "name": "python",
   "nbconvert_exporter": "python",
   "pygments_lexer": "ipython3",
   "version": "3.7.12"
  },
  "orig_nbformat": 4
 },
 "nbformat": 4,
 "nbformat_minor": 2
}
