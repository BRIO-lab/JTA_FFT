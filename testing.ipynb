{
 "cells": [
  {
   "cell_type": "code",
   "execution_count": 1,
   "source": [
    "import numpy as np\r\n",
    "import os\r\n",
    "import glob\r\n",
    "from JTA_FFT import JTA_FFT\r\n",
    "import cv2\r\n",
    "\r\n",
    "from MakeLib import JTA_FFT as jtafft"
   ],
   "outputs": [],
   "metadata": {}
  },
  {
   "cell_type": "markdown",
   "source": [
    "## Loading in Library from Lima Study"
   ],
   "metadata": {}
  },
  {
   "cell_type": "code",
   "execution_count": 2,
   "source": [
    "centroid_library = np.load(\"lima_files/dc_fem.npy\")\r\n",
    "mag_library = np.load(\"lima_files/mag_fem.npy\")\r\n",
    "angle_library = np.load(\"lima_files/lib-angle_fem.npy\")\r\n",
    "NFD_library = np.load(\"lima_files/surface_fem.npy\")\r\n",
    "rot_indices = np.load(\"lima_files/rot_indices.npy\")"
   ],
   "outputs": [],
   "metadata": {}
  },
  {
   "cell_type": "markdown",
   "source": [
    "## Load in Image, Calibration File and Create a `JTA_FFT` object"
   ],
   "metadata": {}
  },
  {
   "cell_type": "code",
   "execution_count": 3,
   "source": [
    "img = cv2.imread(\"lima_files/fem_test_prediction_grid_Lima_000000000010.tif\", cv2.IMREAD_GRAYSCALE)\r\n",
    "\r\n",
    "FFT = JTA_FFT(\"lima_files/calibration.txt\")"
   ],
   "outputs": [],
   "metadata": {}
  },
  {
   "cell_type": "markdown",
   "source": [
    "## Run through Creating a Contour and NFD instance of the image"
   ],
   "metadata": {}
  },
  {
   "cell_type": "code",
   "execution_count": 4,
   "source": [
    "x,y = FFT.create_contour(img)\r\n",
    "centroid_instance, mag_instance, angle_instance, NFD_instance = FFT.get_NFD(x,y)"
   ],
   "outputs": [
    {
     "output_type": "stream",
     "name": "stderr",
     "text": [
      "C:\\Users\\ajensen123\\.conda\\envs\\FFT\\lib\\site-packages\\scipy\\interpolate\\_fitpack_impl.py:227: RuntimeWarning: Setting x[0][754]=x[0][0]\n",
      "  (i, m, i)))\n"
     ]
    }
   ],
   "metadata": {}
  },
  {
   "cell_type": "markdown",
   "source": [
    "## Testing out the Pose Estimates From the given values"
   ],
   "metadata": {}
  },
  {
   "cell_type": "code",
   "execution_count": 5,
   "source": [
    "x, y, z, zr, xr, yr = FFT.estimate_pose(\r\n",
    "    rot_indices, centroid_library, mag_library, angle_library, NFD_library,\r\n",
    "    centroid_instance, mag_instance, angle_instance, NFD_instance)\r\n",
    "\r\n",
    "print(x,y,z,zr,xr,yr)\r\n",
    "\r\n"
   ],
   "outputs": [
    {
     "output_type": "stream",
     "name": "stdout",
     "text": [
      "(556.5146419551538+529.7579450838617j)\n",
      "[11] [9]\n",
      "[37.86472233] [-7.47336364]\n",
      "3.4159384609384396 0.8512799925027127 -1063.0882795632706 34.80409814955047 2.9999794662015256 -3.0000540257349613\n"
     ]
    }
   ],
   "metadata": {}
  },
  {
   "cell_type": "code",
   "execution_count": 6,
   "source": [
    "test_cent = centroid_instance / 128 - (512 + 512j)\r\n",
    "\r\n",
    "xtest = test_cent.real\r\n",
    "ytest = test_cent.imag"
   ],
   "outputs": [],
   "metadata": {}
  }
 ],
 "metadata": {
  "orig_nbformat": 4,
  "language_info": {
   "name": "python",
   "version": "3.7.1",
   "mimetype": "text/x-python",
   "codemirror_mode": {
    "name": "ipython",
    "version": 3
   },
   "pygments_lexer": "ipython3",
   "nbconvert_exporter": "python",
   "file_extension": ".py"
  },
  "kernelspec": {
   "name": "python3",
   "display_name": "Python 3.7.1 64-bit ('FFT': conda)"
  },
  "interpreter": {
   "hash": "2bceb06609590509505fd7322ee93ae8f136ffe4549c928827b56f5da0a9e5f4"
  }
 },
 "nbformat": 4,
 "nbformat_minor": 2
}