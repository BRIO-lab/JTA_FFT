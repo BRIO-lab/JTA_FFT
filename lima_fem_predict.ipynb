{
 "cells": [
  {
   "cell_type": "code",
   "execution_count": 1,
   "source": [
    "import numpy as np\r\n",
    "import os\r\n",
    "import glob\r\n",
    "from JTA_FFT import JTA_FFT\r\n",
    "import cv2"
   ],
   "outputs": [],
   "metadata": {}
  },
  {
   "cell_type": "code",
   "execution_count": 2,
   "source": [
    "HOME_DIR  = \"C:/Datasets_FemCleaned/Lima/Lima_Organized/Patient 77-06-HL/Session_1/\"\r\n",
    "dirlist = [filename for filename in os.listdir(HOME_DIR) if os.path.isdir(os.path.join(HOME_DIR,filename))]\r\n",
    "lib_dc = np.load(HOME_DIR + \"/dc_fem.npy\")\r\n",
    "lib_angle = np.load(HOME_DIR + \"/lib-angle_fem.npy\")\r\n",
    "lib_mag = np.load(HOME_DIR + \"/mag_fem.npy\")\r\n",
    "lib_surface = np.load(HOME_DIR + \"/surface_fem.npy\")\r\n",
    "fem_surface = np.load(HOME_DIR + \"surface_fem.npy\")\r\n",
    "rot_indices = np.load(HOME_DIR + \"/rot_indices.npy\")\r\n",
    "\r\n",
    "for mvt_id in dirlist:\r\n",
    "    MVT_DIR = HOME_DIR + \"/\" + mvt_id \r\n",
    "    IMG_DIR = MVT_DIR + \"/1024/fem/\" \r\n",
    "    num = len(os.listdir(IMG_DIR))\r\n",
    "    jts_file = np.empty([num,6])\r\n",
    "    for idx, img_id in enumerate(os.listdir(IMG_DIR)):\r\n",
    "        img = cv2.imread(IMG_DIR + \"/\" + img_id,cv2.IMREAD_GRAYSCALE)\r\n",
    "        cal = MVT_DIR + \"/calibration.txt\"\r\n",
    "        FEM_FFT = JTA_FFT(cal)\r\n",
    "        \r\n",
    "        x_input, y_input = FEM_FFT.create_contour(img)\r\n",
    "        dc, mag, angle, surface = FEM_FFT.get_NFD(x_input, y_input)\r\n",
    "\r\n",
    "        xt, yt, zt, zr, xr, yr = FEM_FFT.estimate_pose(rot_indices, lib_dc, lib_mag, lib_angle, lib_surface, dc, mag, angle, surface)\r\n",
    "\r\n",
    "        jts_file[idx,:] = [xt,yt,zt,zr,xr,yr]\r\n",
    "\r\n",
    "    \r\n",
    "    header = [\"x_tran\", \"y_tran\", \"z_tran\", \"z_rot\", \"x_rot\", \"y_rot\"]\r\n",
    "\r\n",
    "    np.savetxt(MVT_DIR + \"/fem_fft.jts\", jts_file, delimiter=',', header = \"x_trans, y_trans, z_trans, z_rot, x_rot, y_rot\", fmt = \"   %.2f\")\r\n",
    "    \r\n"
   ],
   "outputs": [
    {
     "output_type": "stream",
     "name": "stderr",
     "text": [
      "C:\\Users\\ajensen123\\.conda\\envs\\FFT\\lib\\site-packages\\scipy\\interpolate\\_fitpack_impl.py:227: RuntimeWarning: Setting x[0][779]=x[0][0]\n",
      "  (i, m, i)))\n",
      "C:\\Users\\ajensen123\\.conda\\envs\\FFT\\lib\\site-packages\\scipy\\interpolate\\_fitpack_impl.py:227: RuntimeWarning: Setting x[1][779]=x[1][0]\n",
      "  (i, m, i)))\n",
      "C:\\Users\\ajensen123\\.conda\\envs\\FFT\\lib\\site-packages\\scipy\\interpolate\\_fitpack_impl.py:227: RuntimeWarning: Setting x[0][780]=x[0][0]\n",
      "  (i, m, i)))\n",
      "C:\\Users\\ajensen123\\.conda\\envs\\FFT\\lib\\site-packages\\scipy\\interpolate\\_fitpack_impl.py:227: RuntimeWarning: Setting x[0][781]=x[0][0]\n",
      "  (i, m, i)))\n"
     ]
    },
    {
     "output_type": "stream",
     "name": "stdout",
     "text": [
      "(561.1106904884736+459.63757040337924j)\n",
      "[13] [10]\n",
      "[34.16675128] [-4.93114734]\n",
      "(563.4603745900351+458.98081385427184j)\n",
      "[13] [10]\n",
      "[34.15540118] [-4.92950923]\n",
      "(564.3172276362986+460.06303319596236j)\n",
      "[13] [10]\n",
      "[34.41024824] [-4.96629026]\n"
     ]
    },
    {
     "output_type": "stream",
     "name": "stderr",
     "text": [
      "C:\\Users\\ajensen123\\.conda\\envs\\FFT\\lib\\site-packages\\scipy\\interpolate\\_fitpack_impl.py:227: RuntimeWarning: Setting x[0][790]=x[0][0]\n",
      "  (i, m, i)))\n",
      "C:\\Users\\ajensen123\\.conda\\envs\\FFT\\lib\\site-packages\\scipy\\interpolate\\_fitpack_impl.py:227: RuntimeWarning: Setting x[1][790]=x[1][0]\n",
      "  (i, m, i)))\n",
      "C:\\Users\\ajensen123\\.conda\\envs\\FFT\\lib\\site-packages\\scipy\\interpolate\\_fitpack_impl.py:227: RuntimeWarning: Setting x[0][785]=x[0][0]\n",
      "  (i, m, i)))\n"
     ]
    },
    {
     "output_type": "stream",
     "name": "stdout",
     "text": [
      "(562.7968452009356+467.0091566152647j)\n",
      "[13] [9]\n",
      "[35.7197369] [-4.97898803]\n",
      "(561.0307304567068+475.1106132485745j)\n",
      "[13] [9]\n",
      "[35.63474795] [-4.96714139]\n",
      "(559.2170828547854+488.1722051126476j)\n",
      "[12] [8]\n",
      "[37.04120925] [-6.00463723]\n",
      "(559.6852832225211+493.7356564631698j)\n",
      "[12] [8]\n",
      "[37.05470612] [-6.00682517]\n"
     ]
    },
    {
     "output_type": "stream",
     "name": "stderr",
     "text": [
      "C:\\Users\\ajensen123\\.conda\\envs\\FFT\\lib\\site-packages\\scipy\\interpolate\\_fitpack_impl.py:227: RuntimeWarning: Setting x[0][777]=x[0][0]\n",
      "  (i, m, i)))\n",
      "C:\\Users\\ajensen123\\.conda\\envs\\FFT\\lib\\site-packages\\scipy\\interpolate\\_fitpack_impl.py:227: RuntimeWarning: Setting x[0][771]=x[0][0]\n",
      "  (i, m, i)))\n"
     ]
    },
    {
     "output_type": "stream",
     "name": "stdout",
     "text": [
      "(559.5040716279384+501.74242925132984j)\n",
      "[12] [8]\n",
      "[36.89141871] [-5.98035514]\n",
      "(557.0945948146682+513.0652619484782j)\n",
      "[11] [8]\n",
      "[38.06666996] [-6.98750789]\n"
     ]
    },
    {
     "output_type": "stream",
     "name": "stderr",
     "text": [
      "C:\\Users\\ajensen123\\.conda\\envs\\FFT\\lib\\site-packages\\scipy\\interpolate\\_fitpack_impl.py:227: RuntimeWarning: Setting x[0][768]=x[0][0]\n",
      "  (i, m, i)))\n",
      "C:\\Users\\ajensen123\\.conda\\envs\\FFT\\lib\\site-packages\\scipy\\interpolate\\_fitpack_impl.py:227: RuntimeWarning: Setting x[0][760]=x[0][0]\n",
      "  (i, m, i)))\n"
     ]
    },
    {
     "output_type": "stream",
     "name": "stdout",
     "text": [
      "(556.2724567698683+522.6536634697634j)\n",
      "[11] [10]\n",
      "[38.10963773] [-6.72810294]\n",
      "(556.5146419551538+529.7579450838617j)\n",
      "[11] [9]\n",
      "[37.86472233] [-7.47336364]\n"
     ]
    },
    {
     "output_type": "stream",
     "name": "stderr",
     "text": [
      "C:\\Users\\ajensen123\\.conda\\envs\\FFT\\lib\\site-packages\\scipy\\interpolate\\_fitpack_impl.py:227: RuntimeWarning: Setting x[0][754]=x[0][0]\n",
      "  (i, m, i)))\n",
      "C:\\Users\\ajensen123\\.conda\\envs\\FFT\\lib\\site-packages\\scipy\\interpolate\\_fitpack_impl.py:227: RuntimeWarning: Setting x[0][747]=x[0][0]\n",
      "  (i, m, i)))\n",
      "C:\\Users\\ajensen123\\.conda\\envs\\FFT\\lib\\site-packages\\scipy\\interpolate\\_fitpack_impl.py:227: RuntimeWarning: Setting x[1][747]=x[1][0]\n",
      "  (i, m, i)))\n"
     ]
    },
    {
     "output_type": "stream",
     "name": "stdout",
     "text": [
      "(552.2984366689171+542.3748137575014j)\n",
      "[11] [10]\n",
      "[36.964255] [-6.52589023]\n",
      "(553.6659929545248+545.0016036968784j)\n",
      "[11] [9]\n",
      "[37.19667095] [-7.34151028]\n",
      "(548.9432944656421+554.9656259450055j)\n",
      "[11] [9]\n",
      "[37.06417532] [-7.3153596]\n"
     ]
    },
    {
     "output_type": "stream",
     "name": "stderr",
     "text": [
      "C:\\Users\\ajensen123\\.conda\\envs\\FFT\\lib\\site-packages\\scipy\\interpolate\\_fitpack_impl.py:227: RuntimeWarning: Setting x[0][742]=x[0][0]\n",
      "  (i, m, i)))\n"
     ]
    },
    {
     "output_type": "stream",
     "name": "stdout",
     "text": [
      "(547.8004091851058+558.9576707444949j)\n",
      "[11] [9]\n",
      "[36.91338398] [-7.28559791]\n",
      "(548.124393091855+558.1036163611047j)\n",
      "[8] [10]\n",
      "[35.8156133] [-8.41558917]\n",
      "(576.3760141100479+459.76542108528895j)\n",
      "[11] [11]\n",
      "[34.59071401] [-7.11658037]\n"
     ]
    },
    {
     "output_type": "stream",
     "name": "stderr",
     "text": [
      "C:\\Users\\ajensen123\\.conda\\envs\\FFT\\lib\\site-packages\\scipy\\interpolate\\_fitpack_impl.py:227: RuntimeWarning: Setting x[0][739]=x[0][0]\n",
      "  (i, m, i)))\n"
     ]
    },
    {
     "output_type": "stream",
     "name": "stdout",
     "text": [
      "(577.0022387142328+460.3365121693839j)\n",
      "[12] [9]\n",
      "[35.62655135] [-6.02200709]\n",
      "(576.6194137109624+461.0283490267084j)\n",
      "[12] [9]\n",
      "[35.68061693] [-6.03114587]\n",
      "(575.712000142506+462.8397120383555j)\n",
      "[11]"
     ]
    },
    {
     "output_type": "stream",
     "name": "stderr",
     "text": [
      "C:\\Users\\ajensen123\\.conda\\envs\\FFT\\lib\\site-packages\\scipy\\interpolate\\_fitpack_impl.py:227: RuntimeWarning: Setting x[0][782]=x[0][0]\n",
      "  (i, m, i)))\n",
      "C:\\Users\\ajensen123\\.conda\\envs\\FFT\\lib\\site-packages\\scipy\\interpolate\\_fitpack_impl.py:227: RuntimeWarning: Setting x[0][793]=x[0][0]\n",
      "  (i, m, i)))\n",
      "C:\\Users\\ajensen123\\.conda\\envs\\FFT\\lib\\site-packages\\scipy\\interpolate\\_fitpack_impl.py:227: RuntimeWarning: Setting x[1][793]=x[1][0]\n",
      "  (i, m, i)))\n",
      "C:\\Users\\ajensen123\\.conda\\envs\\FFT\\lib\\site-packages\\scipy\\interpolate\\_fitpack_impl.py:227: RuntimeWarning: Setting x[0][792]=x[0][0]\n",
      "  (i, m, i)))\n"
     ]
    },
    {
     "output_type": "stream",
     "name": "stdout",
     "text": [
      " [9]\n",
      "[37.79445728] [-7.45949542]\n",
      "(576.209933060598+463.3241707698844j)\n",
      "[12] [9]\n",
      "[35.54466922] [-6.00816644]\n",
      "(575.9814758488872+463.62815884712353j)\n",
      "[12] [9]\n",
      "[35.53946213] [-6.00728628]\n",
      "(576.0357346811531+464.55499242328756j)\n",
      "[11] [9]\n",
      "[37.73420703] [-7.44760382]\n"
     ]
    },
    {
     "output_type": "stream",
     "name": "stderr",
     "text": [
      "C:\\Users\\ajensen123\\.conda\\envs\\FFT\\lib\\site-packages\\scipy\\interpolate\\_fitpack_impl.py:227: RuntimeWarning: Setting x[0][791]=x[0][0]\n",
      "  (i, m, i)))\n",
      "C:\\Users\\ajensen123\\.conda\\envs\\FFT\\lib\\site-packages\\scipy\\interpolate\\_fitpack_impl.py:227: RuntimeWarning: Setting x[1][791]=x[1][0]\n",
      "  (i, m, i)))\n"
     ]
    },
    {
     "output_type": "stream",
     "name": "stdout",
     "text": [
      "(575.9579727201819+465.87717019114604j)\n",
      "[11] [9]\n",
      "[37.65322609] [-7.43162061]\n",
      "(575.7375021827721+466.0524046394286j)\n",
      "[8] [11]\n",
      "[34.66618632] [-9.07591307]\n",
      "(576.187337187829+468.2933539330896j)\n",
      "[12] [9]\n",
      "[35.7658211] [-6.04554806]\n",
      "(575.8066761749292+469.6117412785677j)\n",
      "[12] [9]\n",
      "[35.68230816] [-6.03143174]\n",
      "(575.2527045477752+470.75517944228204j)\n",
      "[12] [9]\n",
      "[35.74875042] [-6.04266258]\n",
      "(574.860383986846+473.06460236869054j)\n",
      "[11] [8]\n",
      "[37.21419185] [-6.83102723]\n"
     ]
    },
    {
     "output_type": "stream",
     "name": "stderr",
     "text": [
      "C:\\Users\\ajensen123\\.conda\\envs\\FFT\\lib\\site-packages\\scipy\\interpolate\\_fitpack_impl.py:227: RuntimeWarning: Setting x[0][784]=x[0][0]\n",
      "  (i, m, i)))\n",
      "C:\\Users\\ajensen123\\.conda\\envs\\FFT\\lib\\site-packages\\scipy\\interpolate\\_fitpack_impl.py:227: RuntimeWarning: Setting x[0][783]=x[0][0]\n",
      "  (i, m, i)))\n",
      "C:\\Users\\ajensen123\\.conda\\envs\\FFT\\lib\\site-packages\\scipy\\interpolate\\_fitpack_impl.py:227: RuntimeWarning: Setting x[0][778]=x[0][0]\n",
      "  (i, m, i)))\n"
     ]
    },
    {
     "output_type": "stream",
     "name": "stdout",
     "text": [
      "(575.7275770181589+475.5163936812427j)\n",
      "[11] [9]\n",
      "[38.07599278] [-7.51506211]\n",
      "(575.3573029423376+477.1062341452287j)\n",
      "[12] [9]\n",
      "[35.89158455] [-6.06680603]\n",
      "(574.2970313293165+480.19458129364546j)\n",
      "[11] [9]\n",
      "[38.38920901] [-7.57688162]\n",
      "(574.3842090087206+481.6023156302816j)\n",
      "[11] [8]\n",
      "[37.47742598] [-6.87934642]\n",
      "(574.4469396843117+482.7882174912767j)\n",
      "[11] [8]\n",
      "[37.54721949] [-6.8921577]\n",
      "(573.7924109911858+486.23269225673766j)\n",
      "[11] [9]\n",
      "[38.53561508] [-7.6057778]\n"
     ]
    },
    {
     "output_type": "stream",
     "name": "stderr",
     "text": [
      "C:\\Users\\ajensen123\\.conda\\envs\\FFT\\lib\\site-packages\\scipy\\interpolate\\_fitpack_impl.py:227: RuntimeWarning: Setting x[0][775]=x[0][0]\n",
      "  (i, m, i)))\n"
     ]
    },
    {
     "output_type": "stream",
     "name": "stdout",
     "text": [
      "(573.3765411761146+488.7099708941049j)\n",
      "[11] [9]\n",
      "[38.47273711] [-7.59336757]\n",
      "(573.7003400341154+489.2552936273838j)\n",
      "[12] [9]\n",
      "[36.11130484] [-6.10394567]\n",
      "(573.6031610675547+491.777651480847j)\n",
      "[11] [8]\n",
      "[37.70219088] [-6.92060421]\n",
      "(573.4345992615495+494.47043948060104j)\n",
      "[11] [9]\n",
      "[38.22694294] [-7.54485515]\n"
     ]
    },
    {
     "output_type": "stream",
     "name": "stderr",
     "text": [
      "C:\\Users\\ajensen123\\.conda\\envs\\FFT\\lib\\site-packages\\scipy\\interpolate\\_fitpack_impl.py:227: RuntimeWarning: Setting x[0][773]=x[0][0]\n",
      "  (i, m, i)))\n",
      "C:\\Users\\ajensen123\\.conda\\envs\\FFT\\lib\\site-packages\\scipy\\interpolate\\_fitpack_impl.py:227: RuntimeWarning: Setting x[0][774]=x[0][0]\n",
      "  (i, m, i)))\n"
     ]
    },
    {
     "output_type": "stream",
     "name": "stdout",
     "text": [
      "(573.2841789065294+495.5940171573498j)\n",
      "[11] [9]\n",
      "[38.15189316] [-7.53004257]\n",
      "(572.2910145115663+498.97261170263505j)\n",
      "[11] [9]\n",
      "[38.24346009] [-7.54811515]\n"
     ]
    },
    {
     "output_type": "stream",
     "name": "stderr",
     "text": [
      "C:\\Users\\ajensen123\\.conda\\envs\\FFT\\lib\\site-packages\\scipy\\interpolate\\_fitpack_impl.py:227: RuntimeWarning: Setting x[0][767]=x[0][0]\n",
      "  (i, m, i)))\n",
      "C:\\Users\\ajensen123\\.conda\\envs\\FFT\\lib\\site-packages\\scipy\\interpolate\\_fitpack_impl.py:227: RuntimeWarning: Setting x[0][766]=x[0][0]\n",
      "  (i, m, i)))\n"
     ]
    },
    {
     "output_type": "stream",
     "name": "stdout",
     "text": [
      "(572.0770585437082+502.2683116127431j)\n",
      "[11] [8]\n",
      "[37.45204074] [-6.87468671]\n",
      "(571.8575308128819+503.8950872820323j)\n",
      "[11] [9]\n",
      "[38.07040224] [-7.5139587]\n",
      "(570.770508541485+508.1481046406701j)\n",
      "[11] [9]\n",
      "[37.91124643] [-7.48254611]\n",
      "(568.6806609111562+513.5055471248775j)\n",
      "[11] [9]\n",
      "[37.60539171] [-7.42217953]\n"
     ]
    },
    {
     "output_type": "stream",
     "name": "stderr",
     "text": [
      "C:\\Users\\ajensen123\\.conda\\envs\\FFT\\lib\\site-packages\\scipy\\interpolate\\_fitpack_impl.py:227: RuntimeWarning: Setting x[0][762]=x[0][0]\n",
      "  (i, m, i)))\n",
      "C:\\Users\\ajensen123\\.conda\\envs\\FFT\\lib\\site-packages\\scipy\\interpolate\\_fitpack_impl.py:227: RuntimeWarning: Setting x[0][759]=x[0][0]\n",
      "  (i, m, i)))\n"
     ]
    },
    {
     "output_type": "stream",
     "name": "stdout",
     "text": [
      "(567.6514232977369+516.3883954327093j)\n",
      "[11] [9]\n",
      "[37.5685229] [-7.41490273]\n",
      "(568.7778418725509+516.3995493871973j)\n",
      "[11] [9]\n",
      "[37.43400329] [-7.38835258]\n"
     ]
    },
    {
     "output_type": "stream",
     "name": "stderr",
     "text": [
      "C:\\Users\\ajensen123\\.conda\\envs\\FFT\\lib\\site-packages\\scipy\\interpolate\\_fitpack_impl.py:227: RuntimeWarning: Setting x[1][754]=x[1][0]\n",
      "  (i, m, i)))\n",
      "C:\\Users\\ajensen123\\.conda\\envs\\FFT\\lib\\site-packages\\scipy\\interpolate\\_fitpack_impl.py:227: RuntimeWarning: Setting x[0][755]=x[0][0]\n",
      "  (i, m, i)))\n",
      "C:\\Users\\ajensen123\\.conda\\envs\\FFT\\lib\\site-packages\\scipy\\interpolate\\_fitpack_impl.py:227: RuntimeWarning: Setting x[0][753]=x[0][0]\n",
      "  (i, m, i)))\n"
     ]
    },
    {
     "output_type": "stream",
     "name": "stdout",
     "text": [
      "(569.6208956352056+517.0325117562187j)\n",
      "[11] [10]\n",
      "[37.13105066] [-6.55533733]\n",
      "(568.7157770658935+517.9108007545346j)\n",
      "[8] [10]\n",
      "[36.08364806] [-8.47856926]\n",
      "(568.9581839729394+519.6993630766606j)\n",
      "[8] [10]\n",
      "[36.03371391] [-8.46683623]\n",
      "(567.4578726242628+523.1463182570361j)\n",
      "[11] [10]\n",
      "[36.68982803] [-6.47744126]\n"
     ]
    },
    {
     "output_type": "stream",
     "name": "stderr",
     "text": [
      "C:\\Users\\ajensen123\\.conda\\envs\\FFT\\lib\\site-packages\\scipy\\interpolate\\_fitpack_impl.py:227: RuntimeWarning: Setting x[0][746]=x[0][0]\n",
      "  (i, m, i)))\n",
      "C:\\Users\\ajensen123\\.conda\\envs\\FFT\\lib\\site-packages\\scipy\\interpolate\\_fitpack_impl.py:227: RuntimeWarning: Setting x[0][748]=x[0][0]\n",
      "  (i, m, i)))\n"
     ]
    },
    {
     "output_type": "stream",
     "name": "stdout",
     "text": [
      "(565.9215985757003+524.5791164806773j)\n",
      "[8] [10]\n",
      "[35.78844016] [-8.4092043]\n",
      "(563.8443529284659+527.1326214761498j)\n",
      "[11] [9]\n",
      "[36.62895082] [-7.22945931]\n"
     ]
    },
    {
     "output_type": "stream",
     "name": "stderr",
     "text": [
      "C:\\Users\\ajensen123\\.conda\\envs\\FFT\\lib\\site-packages\\scipy\\interpolate\\_fitpack_impl.py:227: RuntimeWarning: Setting x[0][743]=x[0][0]\n",
      "  (i, m, i)))\n",
      "C:\\Users\\ajensen123\\.conda\\envs\\FFT\\lib\\site-packages\\scipy\\interpolate\\_fitpack_impl.py:227: RuntimeWarning: Setting x[0][745]=x[0][0]\n",
      "  (i, m, i)))\n",
      "C:\\Users\\ajensen123\\.conda\\envs\\FFT\\lib\\site-packages\\scipy\\interpolate\\_fitpack_impl.py:227: RuntimeWarning: Setting x[0][741]=x[0][0]\n",
      "  (i, m, i)))\n"
     ]
    },
    {
     "output_type": "stream",
     "name": "stdout",
     "text": [
      "(559.7824941485351+532.340917686951j)\n",
      "[9] [11]\n",
      "[35.89753118] [-8.99158948]\n",
      "(560.0540542714948+532.8636036343396j)\n",
      "[9] [11]\n",
      "[35.97827022] [-9.01181294]\n",
      "(557.6484849965237+538.5465676142551j)\n",
      "[9] [11]\n",
      "[36.10573497] [-9.04374022]\n",
      "(556.7557717195866+543.7807021654075j)\n",
      "[11] [9]\n",
      "[36.49216984] [-7.20246283]\n"
     ]
    },
    {
     "output_type": "stream",
     "name": "stderr",
     "text": [
      "C:\\Users\\ajensen123\\.conda\\envs\\FFT\\lib\\site-packages\\scipy\\interpolate\\_fitpack_impl.py:227: RuntimeWarning: Setting x[0][738]=x[0][0]\n",
      "  (i, m, i)))\n",
      "C:\\Users\\ajensen123\\.conda\\envs\\FFT\\lib\\site-packages\\scipy\\interpolate\\_fitpack_impl.py:227: RuntimeWarning: Setting x[1][738]=x[1][0]\n",
      "  (i, m, i)))\n",
      "C:\\Users\\ajensen123\\.conda\\envs\\FFT\\lib\\site-packages\\scipy\\interpolate\\_fitpack_impl.py:227: RuntimeWarning: Setting x[0][734]=x[0][0]\n",
      "  (i, m, i)))\n",
      "C:\\Users\\ajensen123\\.conda\\envs\\FFT\\lib\\site-packages\\scipy\\interpolate\\_fitpack_impl.py:227: RuntimeWarning: Setting x[0][740]=x[0][0]\n",
      "  (i, m, i)))\n"
     ]
    },
    {
     "output_type": "stream",
     "name": "stdout",
     "text": [
      "(555.6373106862083+544.8485175765811j)\n",
      "[11] [10]\n",
      "[36.26143232] [-6.40180972]\n",
      "(554.0464167717496+548.3798026534124j)\n",
      "[11] [10]\n",
      "[36.09688446] [-6.37275946]\n",
      "(553.9918760201629+549.2847734054287j)\n",
      "[9] [11]\n",
      "[35.98188991] [-9.01271959]\n",
      "(553.9454547619284+550.6203551710325j)\n",
      "[9] [11]\n",
      "[36.15366328] [-9.05574527]\n",
      "(549.7445217385691+557.6067100709691j)\n",
      "[10] [9]\n",
      "[37.76947486] [-8.66344795]\n",
      "(544.1490297173696+563.3478085059941j)\n",
      "[9] [11]\n",
      "[35.97957781] [-9.01214046]\n",
      "(534.1033134919783+603.0533554711312j)\n",
      "[13] [7]\n",
      "[35.99152884] [-5.35134134]\n"
     ]
    },
    {
     "output_type": "stream",
     "name": "stderr",
     "text": [
      "C:\\Users\\ajensen123\\.conda\\envs\\FFT\\lib\\site-packages\\scipy\\interpolate\\_fitpack_impl.py:227: RuntimeWarning: Setting x[0][769]=x[0][0]\n",
      "  (i, m, i)))\n"
     ]
    },
    {
     "output_type": "stream",
     "name": "stdout",
     "text": [
      "(534.1689903156813+602.9683820533509j)\n",
      "[12] [8]\n",
      "[37.59355696] [-6.09417663]\n",
      "(535.0254743494716+603.0234748952862j)\n",
      "[12] [8]\n",
      "[37.71524004] [-6.1139023]\n",
      "(534.3192862850125+603.0045319164631j)\n",
      "[12] [8]\n",
      "[37.78804552] [-6.12570458]\n",
      "(534.3545706093907+603.0600704384335j)\n",
      "[12] [8]\n",
      "[37.72018986] [-6.1147047]\n",
      "(534.2063461781667+603.0913604858298j)\n",
      "[12] [8]\n",
      "[37.69457777] [-6.11055281]\n",
      "(533.3649979334407+603.2261798282325j)\n",
      "[11] [10]\n",
      "[39.73731908] [-7.01546352]\n"
     ]
    },
    {
     "output_type": "stream",
     "name": "stderr",
     "text": [
      "C:\\Users\\ajensen123\\.conda\\envs\\FFT\\lib\\site-packages\\scipy\\interpolate\\_fitpack_impl.py:227: RuntimeWarning: Setting x[1][768]=x[1][0]\n",
      "  (i, m, i)))\n"
     ]
    },
    {
     "output_type": "stream",
     "name": "stdout",
     "text": [
      "(529.790700802921+603.1731364696775j)\n",
      "[13] [7]\n",
      "[35.8199331] [-5.32582791]\n",
      "(526.8189858569094+602.7087278177252j)\n"
     ]
    },
    {
     "output_type": "stream",
     "name": "stderr",
     "text": [
      "C:\\Users\\ajensen123\\.conda\\envs\\FFT\\lib\\site-packages\\scipy\\interpolate\\_fitpack_impl.py:227: RuntimeWarning: Setting x[0][770]=x[0][0]\n",
      "  (i, m, i)))\n"
     ]
    },
    {
     "output_type": "stream",
     "name": "stdout",
     "text": [
      "[13] [7]\n",
      "[35.73056173] [-5.31253987]\n",
      "(525.1348941334688+603.0461552686213j)\n",
      "[11] [10]\n",
      "[39.61915205] [-6.99460161]\n",
      "(527.4447923131569+602.813219870829j)\n",
      "[13] [7]\n",
      "[35.90631922] [-5.33867209]\n",
      "(531.7671358816244+602.6801998863075j)\n",
      "[13] [7]\n",
      "[35.91394751] [-5.33980629]\n",
      "(535.1787345121196+602.4725082225077j)\n",
      "[11] [10]\n",
      "[39.99412749] [-7.06080201]\n",
      "(534.9976332368019+602.2747881169872j)\n",
      "[11] [10]\n",
      "[39.89614707] [-7.04350396]\n"
     ]
    },
    {
     "output_type": "stream",
     "name": "stderr",
     "text": [
      "C:\\Users\\ajensen123\\.conda\\envs\\FFT\\lib\\site-packages\\scipy\\interpolate\\_fitpack_impl.py:227: RuntimeWarning: Setting x[1][780]=x[1][0]\n",
      "  (i, m, i)))\n"
     ]
    },
    {
     "output_type": "stream",
     "name": "stdout",
     "text": [
      "(526.9711499848911+603.0056956920996j)\n",
      "[10] [10]\n",
      "[43.53634216] [-10.13023322]\n",
      "(524.6929406956162+603.0204255343331j)\n",
      "[10] [10]\n",
      "[43.55528027] [-10.13463982]\n",
      "(523.2998458789681+603.0927821710784j)\n",
      "[12] [7]\n",
      "[37.9623251] [-6.82035571]\n",
      "(522.584545320828+603.2688429465566j)\n",
      "[10] [10]\n",
      "[43.22879228] [-10.05867112]\n"
     ]
    },
    {
     "output_type": "stream",
     "name": "stderr",
     "text": [
      "C:\\Users\\ajensen123\\.conda\\envs\\FFT\\lib\\site-packages\\scipy\\interpolate\\_fitpack_impl.py:227: RuntimeWarning: Setting x[0][772]=x[0][0]\n",
      "  (i, m, i)))\n",
      "C:\\Users\\ajensen123\\.conda\\envs\\FFT\\lib\\site-packages\\scipy\\interpolate\\_fitpack_impl.py:227: RuntimeWarning: Setting x[0][776]=x[0][0]\n",
      "  (i, m, i)))\n"
     ]
    },
    {
     "output_type": "stream",
     "name": "stdout",
     "text": [
      "(525.1155417972154+603.138680988946j)\n",
      "[10] [10]\n",
      "[43.31564457] [-10.0788803]\n",
      "(529.6398314661097+602.8824517939561j)\n",
      "[14] [0]\n",
      "[18.99091841] [-5.52024981]\n",
      "(534.1012511224818+602.5262593784656j)\n",
      "[10] [10]\n",
      "[43.03695476] [-10.01403349]\n",
      "(535.2731632208443+602.3539839559951j)\n",
      "[10] [10]\n",
      "[42.90421188] [-9.98314628]\n",
      "(535.4719725788946+602.3660189810907j)\n",
      "[15] [0]\n",
      "[18.59178491] [-5.95019221]\n",
      "(535.0413850700061+602.2004189328738j)\n",
      "[15] [0]\n",
      "[18.53433766] [-5.93180655]\n",
      "(537.0834260841398+602.18720956849j)\n",
      "[20] [1]\n",
      "[16.13687415] [-11.15852215]\n",
      "(544.6671550227375+600.9735563313893j)\n",
      "[17] [0]\n",
      "[16.51325919] [-6.44782342]\n",
      "(552.7634679867676+600.0607183831537j)\n",
      "[20] [0]\n",
      "[15.3553458] [-11.58398209]\n",
      "(556.0160829901182+599.2418266315194j)\n",
      "[20] [0]\n",
      "[15.31526868] [-11.55374815]\n",
      "(553.9610895853117+599.1613924226849j)\n",
      "[20] [0]\n",
      "[15.27686895] [-11.52477962]\n",
      "(554.3251384287748+598.4405563478723j)\n",
      "[3] [16]\n",
      "[10.67624982] [-12.4204424]\n",
      "(556.6151999534907+597.5617789349078j)\n",
      "[20] [0]\n",
      "[15.34533864] [-11.57643275]\n",
      "(562.4956782303561+596.495328457102j)\n",
      "[3] [16]\n",
      "[10.69799438] [-12.44573939]\n",
      "(567.925341408056+595.6479908371789j)\n",
      "[12] [6]\n",
      "[35.86711207] [-5.67081837]\n",
      "(575.4876075666298+593.7913734672345j)\n",
      "[3] [16]\n",
      "[10.70870467] [-12.45819943]\n",
      "(579.1467076951478+593.2813517902939j)\n",
      "[8] [5]\n",
      "[30.17431959] [-4.35651781]\n",
      "(579.6779030975107+593.1745142432474j)\n",
      "[12] [6]\n",
      "[36.31622339] [-5.74182572]\n",
      "(581.6901076377217+592.6701217396944j)\n",
      "[12] [6]\n",
      "[36.00068438] [-5.691937]\n",
      "(582.0646699356264+592.5126767598227j)\n",
      "[12] [6]\n",
      "[36.12071366] [-5.71091439]\n",
      "(581.0865213050513+592.4210729702442j)\n",
      "[12] [6]\n",
      "[36.1926108] [-5.72228179]\n",
      "(582.3050118454846+592.0787620796061j)\n",
      "[12] [6]\n",
      "[36.20082524] [-5.72358054]\n",
      "(583.8083347361973+591.8532097575537j)\n",
      "[13] [5]\n",
      "[33.23393455] [-4.41473634]\n",
      "(582.3368949592532+591.8443004669069j)\n",
      "[13] [5]\n",
      "[33.34070198] [-4.42891913]\n",
      "(581.0220514688951+592.1570101850606j)\n",
      "[13] [5]\n",
      "[33.68521663] [-4.47468384]\n",
      "(579.7602600281457+591.9097986028682j)\n",
      "[13] [6]\n",
      "[35.88845914] [-5.19869993]\n",
      "(582.4693370173512+591.6143542295556j)\n",
      "[3] [15]\n",
      "[20.63302679] [-9.12818584]\n",
      "(585.1573187076124+591.3447985661091j)\n",
      "[13] [5]\n",
      "[33.6741755] [-4.47321716]\n",
      "(591.9204324144508+591.1072386264816j)\n",
      "[13] [5]\n",
      "[33.59269458] [-4.46239338]\n",
      "(598.6849166109132+590.084348207515j)\n",
      "[14] [5]\n",
      "[32.40446846] [-4.19239764]\n",
      "(597.6737372723846+590.1394027413156j)\n",
      "[3] [15]\n",
      "[20.52065111] [-9.07847011]\n",
      "(597.1040405632341+590.3126419293831j)\n",
      "[3] [15]\n",
      "[20.53403447] [-9.084391]\n",
      "(595.8748250634021+590.102177804006j)\n",
      "[3] [15]\n",
      "[20.46232607] [-9.05266673]\n",
      "(594.4167962787405+590.310388017004j)\n",
      "[14] [5]\n",
      "[32.47822874] [-4.20194054]\n",
      "(592.8875240982632+590.6698831627666j)\n",
      "[14] [5]\n",
      "[32.52925727] [-4.20854246]\n",
      "(593.5704082337804+590.6830213783353j)\n",
      "[14] [5]\n",
      "[32.64240787] [-4.22318157]\n",
      "(592.903903644325+590.8585714860918j)\n",
      "[14] [5]\n",
      "[32.56604503] [-4.21330196]\n",
      "(591.23500597111+590.9967706363141j)\n",
      "[14] [5]\n",
      "[32.58270583] [-4.21545749]\n",
      "(591.7422132036235+590.9897082012376j)\n",
      "[14] [5]\n",
      "[32.72051892] [-4.23328735]\n",
      "(592.7250822676526+590.9820626094472j)\n",
      "[14] [5]\n",
      "[32.59056065] [-4.21647372]\n",
      "(592.5570287351029+590.96394682223j)\n",
      "[14] [5]\n",
      "[32.66708924] [-4.22637477]\n"
     ]
    },
    {
     "output_type": "stream",
     "name": "stderr",
     "text": [
      "C:\\Users\\ajensen123\\.conda\\envs\\FFT\\lib\\site-packages\\scipy\\interpolate\\_fitpack_impl.py:227: RuntimeWarning: Setting x[0][787]=x[0][0]\n",
      "  (i, m, i)))\n"
     ]
    },
    {
     "output_type": "stream",
     "name": "stdout",
     "text": [
      "(591.9984794899706+590.8680809921384j)\n",
      "[14] [5]\n",
      "[32.70241142] [-4.23094465]\n",
      "(589.6732755335822+591.153993577601j)\n",
      "[3] [15]\n",
      "[20.68572997] [-9.15150207]\n",
      "(584.596578736421+591.3178104614162j)\n",
      "[3] [15]\n",
      "[20.65648217] [-9.13856266]\n",
      "(583.2825823337928+591.5064981004949j)\n",
      "[3] [15]\n",
      "[20.7146118] [-9.16427959]\n",
      "(582.9871794935273+591.7050947125489j)\n",
      "[3] [15]\n",
      "[20.73397735] [-9.17284703]\n",
      "(581.6027569618325+591.5281216915937j)\n",
      "[3] [15]\n",
      "[20.65384839] [-9.13739746]\n",
      "(582.544696355862+591.4194673102979j)\n",
      "[3] [15]\n",
      "[20.74905942] [-9.17951944]\n",
      "(584.322015870788+591.0424547353656j)\n",
      "[3] [15]\n",
      "[20.71277913] [-9.1634688]\n",
      "(583.5098995711078+591.12228565983j)\n",
      "[3] [15]\n",
      "[20.77148238] [-9.1894395]\n",
      "(584.2181151257613+591.0117974515359j)\n",
      "[3] [15]\n",
      "[20.73389259] [-9.17280953]\n",
      "(584.2023469048283+590.8803518460282j)\n",
      "[3] [15]\n",
      "[20.73231847] [-9.17211313]\n",
      "(487.05921647724074+603.3121637056188j)\n",
      "[11] [10]\n",
      "[39.14359548] [-6.91064401]\n",
      "(491.3320598957805+603.5040992524953j)\n",
      "[11] [10]\n",
      "[39.23244555] [-6.92633013]\n",
      "(487.91731466045724+603.8956443125237j)\n",
      "[11] [10]\n",
      "[39.31258081] [-6.94047769]\n",
      "(486.9694397640769+603.5695334200084j)\n",
      "[11] [10]\n",
      "[38.8908469] [-6.86602227]\n",
      "(483.409681657833+603.3356976003839j)\n",
      "[12] [7]\n",
      "[37.30884908] [-6.70295144]\n",
      "(483.05569295630505+604.0253021217203j)\n",
      "[15] [0]\n",
      "[18.40300728] [-5.88977503]\n",
      "(486.7103189886918+603.8947880583041j)\n",
      "[15] [0]\n",
      "[18.32775166] [-5.86568991]\n",
      "(495.77446837836845+603.6925737280146j)\n",
      "[15] [0]\n",
      "[18.43002081] [-5.89842055]\n",
      "(490.7590213537225+603.4406177772322j)\n",
      "[20] [1]\n",
      "[15.92320507] [-11.01077166]\n",
      "(492.0006404051399+603.1070878206992j)\n",
      "[20] [0]\n",
      "[14.95680959] [-11.28332873]\n",
      "(488.6155360938586+603.1939619374978j)\n",
      "[20] [0]\n",
      "[14.92574335] [-11.25989255]\n",
      "(488.3873968690458+602.6655251196436j)\n",
      "[20] [0]\n",
      "[14.9466205] [-11.27564214]\n",
      "(500.13307899456584+601.9636593719997j)\n",
      "[10] [6]\n",
      "[36.0103382] [-6.85379973]\n",
      "(494.8353740519027+601.2933031640091j)\n",
      "[10] [6]\n",
      "[35.75480317] [-6.80516409]\n",
      "(490.9415852073978+601.1358826579985j)\n",
      "[10] [6]\n",
      "[35.63362484] [-6.78210038]\n",
      "(492.40835265361636+600.5335340819826j)\n",
      "[12] [6]\n",
      "[35.07788636] [-5.54603677]\n",
      "(490.6375013629116+600.2200256351754j)\n",
      "[12] [6]\n",
      "[35.12419254] [-5.55335807]\n",
      "(491.8522101925559+599.6451243209284j)\n",
      "[12] [6]\n",
      "[35.18307345] [-5.56266751]\n",
      "(494.2268332693961+598.8368126506599j)\n",
      "[13] [5]\n",
      "[32.14354012] [-4.26989029]\n",
      "(489.9076320990978+598.2011638645265j)\n",
      "[14] [5]\n",
      "[30.74239596] [-3.97736345]\n",
      "(488.7076016069207+598.0754502149142j)\n",
      "[13] [5]\n",
      "[31.89439337] [-4.23679409]\n",
      "(489.1512206245153+598.2582706337073j)\n",
      "[14] [5]\n",
      "[30.85817895] [-3.99234312]\n",
      "(488.3657169241641+598.357772215589j)\n",
      "[3] [15]\n",
      "[19.57163758] [-8.65862032]\n",
      "(487.69579683504855+598.023796482652j)\n",
      "[14] [5]\n",
      "[31.18044503] [-4.03403699]\n",
      "(488.0376161732774+597.8574661909867j)\n",
      "[3] [15]\n",
      "[19.8130391] [-8.76541793]\n",
      "(486.8304474552981+597.547383133676j)\n",
      "[3] [15]\n",
      "[19.91165595] [-8.80904667]\n",
      "(487.12134535015286+597.5171216876549j)\n",
      "[3] [15]\n",
      "[20.03301927] [-8.8627386]\n",
      "(471.9324316041241+586.4286789694196j)\n",
      "[12] [9]\n",
      "[37.26286898] [-6.29859621]\n"
     ]
    },
    {
     "output_type": "stream",
     "name": "stderr",
     "text": [
      "C:\\Users\\ajensen123\\.conda\\envs\\FFT\\lib\\site-packages\\scipy\\interpolate\\_fitpack_impl.py:227: RuntimeWarning: Setting x[0][765]=x[0][0]\n",
      "  (i, m, i)))\n",
      "C:\\Users\\ajensen123\\.conda\\envs\\FFT\\lib\\site-packages\\scipy\\interpolate\\_fitpack_impl.py:227: RuntimeWarning: Setting x[0][764]=x[0][0]\n",
      "  (i, m, i)))\n"
     ]
    },
    {
     "output_type": "stream",
     "name": "stdout",
     "text": [
      "(470.58185192180144+586.5417877005132j)\n",
      "[12] [8]\n",
      "[37.1703112] [-6.02556555]\n",
      "(471.15393258495203+586.6793356959869j)\n",
      "[12] [9]\n",
      "[37.29160154] [-6.30345291]\n"
     ]
    },
    {
     "output_type": "stream",
     "name": "stderr",
     "text": [
      "C:\\Users\\ajensen123\\.conda\\envs\\FFT\\lib\\site-packages\\scipy\\interpolate\\_fitpack_impl.py:227: RuntimeWarning: Setting x[0][763]=x[0][0]\n",
      "  (i, m, i)))\n"
     ]
    },
    {
     "output_type": "stream",
     "name": "stdout",
     "text": [
      "(470.8359603653598+586.5069503271715j)\n",
      "[12] [9]\n",
      "[37.21467089] [-6.29044922]\n",
      "(469.8815281395455+586.644292721151j)\n",
      "[12] [8]\n",
      "[37.14013633] [-6.020674]\n",
      "(471.69656201344395+585.9669776409527j)\n",
      "[12] [9]\n",
      "[37.21166883] [-6.28994177]\n",
      "(471.6289246591957+584.4331874124264j)\n",
      "[12] [10]\n",
      "[35.82007999] [-6.26293883]\n",
      "(476.94459159879705+581.4399363888631j)\n",
      "[12] [9]\n",
      "[36.51171409] "
     ]
    },
    {
     "output_type": "stream",
     "name": "stderr",
     "text": [
      "C:\\Users\\ajensen123\\.conda\\envs\\FFT\\lib\\site-packages\\scipy\\interpolate\\_fitpack_impl.py:227: RuntimeWarning: Setting x[0][758]=x[0][0]\n",
      "  (i, m, i)))\n",
      "C:\\Users\\ajensen123\\.conda\\envs\\FFT\\lib\\site-packages\\scipy\\interpolate\\_fitpack_impl.py:227: RuntimeWarning: Setting x[0][752]=x[0][0]\n",
      "  (i, m, i)))\n"
     ]
    },
    {
     "output_type": "stream",
     "name": "stdout",
     "text": [
      "[-6.17162742]\n",
      "(475.40563431852286+580.4938698544526j)\n",
      "[12] [9]\n",
      "[36.11626987] [-6.10478492]\n",
      "(471.70635409438665+580.360040002176j)\n",
      "[12] [9]\n",
      "[35.97199716] [-6.08039829]\n",
      "(469.16225318000033+580.7281933080916j)\n",
      "[8] [11]\n",
      "[35.11841298] [-9.19430999]\n"
     ]
    },
    {
     "output_type": "stream",
     "name": "stderr",
     "text": [
      "C:\\Users\\ajensen123\\.conda\\envs\\FFT\\lib\\site-packages\\scipy\\interpolate\\_fitpack_impl.py:227: RuntimeWarning: Setting x[0][751]=x[0][0]\n",
      "  (i, m, i)))\n"
     ]
    },
    {
     "output_type": "stream",
     "name": "stdout",
     "text": [
      "(472.40901224952756+579.0017230071026j)\n",
      "[12] [9]\n",
      "[36.13890787] [-6.10861145]\n",
      "(470.346082639686+577.1011789478196j)\n",
      "[12] [10]\n",
      "[34.98572798] [-6.11705709]\n",
      "(453.82703365785216+577.381776752137j)\n"
     ]
    },
    {
     "output_type": "stream",
     "name": "stderr",
     "text": [
      "C:\\Users\\ajensen123\\.conda\\envs\\FFT\\lib\\site-packages\\scipy\\interpolate\\_fitpack_impl.py:227: RuntimeWarning: Setting x[0][731]=x[0][0]\n",
      "  (i, m, i)))\n",
      "C:\\Users\\ajensen123\\.conda\\envs\\FFT\\lib\\site-packages\\scipy\\interpolate\\_fitpack_impl.py:227: RuntimeWarning: Setting x[0][721]=x[0][0]\n",
      "  (i, m, i)))\n",
      "C:\\Users\\ajensen123\\.conda\\envs\\FFT\\lib\\site-packages\\scipy\\interpolate\\_fitpack_impl.py:227: RuntimeWarning: Setting x[0][720]=x[0][0]\n",
      "  (i, m, i)))\n"
     ]
    },
    {
     "output_type": "stream",
     "name": "stdout",
     "text": [
      "[12] [11]\n",
      "[32.99194066] [-5.42733966]\n",
      "(431.0997317858416+577.3769466476797j)\n",
      "[12] [11]\n",
      "[32.34462724] [-5.32085336]\n",
      "(426.18932156707217+576.2307059103147j)\n",
      "[10] [11]\n",
      "[34.98375843] [-8.74456631]\n",
      "(454.5288486858935+570.3571034619426j)\n",
      "[9] [9]\n",
      "[36.5892643] [-8.17004911]\n",
      "(461.0112770507915+569.9548300675842j)\n",
      "[10] [11]\n",
      "[35.33315421] [-8.83190154]\n",
      "(462.71587756099404+568.0756644740055j)\n"
     ]
    },
    {
     "output_type": "stream",
     "name": "stderr",
     "text": [
      "C:\\Users\\ajensen123\\.conda\\envs\\FFT\\lib\\site-packages\\scipy\\interpolate\\_fitpack_impl.py:227: RuntimeWarning: Setting x[0][729]=x[0][0]\n",
      "  (i, m, i)))\n"
     ]
    },
    {
     "output_type": "stream",
     "name": "stdout",
     "text": [
      "[11] [9]\n",
      "[36.26440597] [-7.15750906]\n",
      "(446.95314479389253+568.2072143785089j)\n",
      "[9] [11]\n",
      "[35.06535183] [-8.78314575]\n",
      "(432.1641149294752+568.6359426730764j)\n",
      "[10] [11]\n",
      "[35.2035068] [-8.79949478]\n",
      "(429.4719817422922+567.6527406521942j)\n",
      "[10] [12]\n",
      "[33.36092282] [-7.57487079]\n",
      "(420.1871132810373+568.3965331381642j)\n",
      "[10] [12]\n",
      "[33.02079327] [-7.49764159]\n",
      "(404.921189071719+570.0867421505121j)\n",
      "[10] [12]\n",
      "[33.31804894] [-7.56513593]\n",
      "(390.3521718076833+570.411034758096j)\n",
      "[10] [12]\n",
      "[33.03859842] [-7.5016844]\n",
      "(376.23029075227566+570.8370500742157j)\n",
      "[10] [12]\n",
      "[33.15039641] [-7.52706905]\n",
      "(364.49788925024535+570.7233150524604j)\n",
      "[10] [12]\n",
      "[32.87725252] [-7.46504949]\n",
      "(345.0866712464563+569.9426188003434j)\n",
      "[9] [11]\n",
      "[34.97262028] [-8.75991842]\n",
      "(313.17204294738303+569.4757288668385j)\n",
      "[9] [11]\n",
      "[34.78426475] [-8.71273925]\n",
      "(282.3093022032253+567.5938547741855j)\n",
      "[10] [9]\n",
      "[36.3105135] [-8.3287958]\n",
      "(287.66194558076256+566.1936389526131j)\n",
      "[10] [11]\n",
      "[34.52700577] [-8.63039608]\n",
      "(292.37903525099114+564.7363900866317j)\n",
      "[9] [9]\n",
      "[35.83182361] [-8.00091951]\n",
      "(276.62015026314356+562.9135952681115j)\n",
      "[10] [11]\n",
      "[34.22968808] [-8.55607833]\n",
      "(264.01478783277184+560.8014477283446j)\n",
      "[10] [9]\n",
      "[36.20803358] [-8.30528927]\n",
      "(269.749680285226+559.0264579265892j)\n",
      "[10] [11]\n",
      "[34.50244084] [-8.62425581]\n",
      "(271.67543346551037+557.0671776904767j)\n",
      "[10] [11]\n",
      "[34.26969194] [-8.56607772]\n",
      "(266.4844879740558+556.3624321577266j)\n",
      "[10] [11]\n",
      "[34.56213334] [-8.63917659]\n",
      "(271.6147604552382+556.1628206249854j)\n",
      "[10] [11]\n",
      "[34.47998436] [-8.61864257]\n",
      "(275.3889438111041+555.0950863648361j)\n",
      "[10] [9]\n",
      "[36.4455497] [-8.35977]\n"
     ]
    },
    {
     "output_type": "stream",
     "name": "stderr",
     "text": [
      "C:\\Users\\ajensen123\\.conda\\envs\\FFT\\lib\\site-packages\\scipy\\interpolate\\_fitpack_impl.py:227: RuntimeWarning: Setting x[1][778]=x[1][0]\n",
      "  (i, m, i)))\n"
     ]
    },
    {
     "output_type": "stream",
     "name": "stdout",
     "text": [
      "(281.3413873797958+554.7313907641596j)\n",
      "[10] [11]\n",
      "[34.40946416] [-8.60101529]\n",
      "(277.93418864907164+553.9655521039289j)\n",
      "[10] [9]\n",
      "[36.47839586] [-8.36730415]\n",
      "(277.5703645564204+554.2541307165575j)\n",
      "[9] [9]\n",
      "[35.73590498] [-7.97950176]\n",
      "(271.3589881465436+553.8544117036233j)\n",
      "[10] [11]\n",
      "[34.50933751] [-8.62597971]\n",
      "(277.07237404655234+553.637414426223j)\n",
      "[10] [11]\n",
      "[34.33445792] [-8.58226667]\n"
     ]
    }
   ],
   "metadata": {}
  }
 ],
 "metadata": {
  "orig_nbformat": 4,
  "language_info": {
   "name": "python",
   "version": "3.7.1",
   "mimetype": "text/x-python",
   "codemirror_mode": {
    "name": "ipython",
    "version": 3
   },
   "pygments_lexer": "ipython3",
   "nbconvert_exporter": "python",
   "file_extension": ".py"
  },
  "kernelspec": {
   "name": "python3",
   "display_name": "Python 3.7.1 64-bit ('FFT': conda)"
  },
  "interpreter": {
   "hash": "2bceb06609590509505fd7322ee93ae8f136ffe4549c928827b56f5da0a9e5f4"
  }
 },
 "nbformat": 4,
 "nbformat_minor": 2
}