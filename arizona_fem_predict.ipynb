{
 "cells": [
  {
   "cell_type": "code",
   "execution_count": 4,
   "metadata": {},
   "outputs": [],
   "source": [
    "import numpy as np\n",
    "import os\n",
    "import glob\n",
    "from JTA_FFT import JTA_FFT\n",
    "import cv2"
   ]
  },
  {
   "cell_type": "code",
   "execution_count": null,
   "metadata": {},
   "outputs": [],
   "source": [
    "HOME_DIR = \"C:/Datasets_FemCleaned/Arizona/Arizona_Organized/Patient_1/Session_1\"\n",
    "mvts = [\"KneelLeft_1\",\"KneelRight_1\",\"LungeLeft_1\", \"LungeRight_1\",\"StairLeft_1\", \"StairLeft_2\"]\n",
    "for mvt_id in mvts:\n",
    "    MVT_DIR = HOME_DIR + \"/\" + mvt_id\n",
    "    \n",
    "    centroid_library = np.load(MVT_DIR + \"/FFT/dc_fem.npy\")\n",
    "    mag_library = np.load(MVT_DIR + \"/FFT/mag_fem.npy\")\n",
    "    angle_library = np.load(MVT_DIR + \"/FFT/lib-angle_fem.npy\")\n",
    "    NFD_library = np.load(MVT_DIR + \"/FFT/surface_fem.npy\")\n",
    "    rot_indices = np.load(MVT_DIR + \"/FFT/rot_indices.npy\")\n",
    "\n",
    "    IMG_DIR = MVT_DIR + \"/1024/fem/\"\n",
    "\n",
    "    num = len(os.listdir(IMG_DIR))\n",
    "    jts_file = np.empty([num,6])\n",
    "\n",
    "    for idx, img_id in enumerate(os.listdir(IMG_DIR)):\n",
    "        img = cv2.imread(IMG_DIR + \"/\" + img_id,cv2.IMREAD_GRAYSCALE)\n",
    "        cal = MVT_DIR + \"/cal1024.txt\"\n",
    "        FEM_FFT = JTA_FFT(cal)\n",
    "        \n",
    "        x_input, y_input = FEM_FFT.create_contour(img)\n",
    "\n",
    "        centroid_instance, mag_instance, angle_instance, NFD_instance = FEM_FFT.get_NFD(x_input,y_input)\n",
    "\n",
    "        x, y, z, zr, xr, yr = FEM_FFT.estimate_pose(\n",
    "                                                rot_indices,\n",
    "                                                centroid_library, mag_library, angle_library, NFD_library,\n",
    "                                                centroid_instance, mag_instance, angle_instance, NFD_instance)\n",
    "\n",
    "        jts_file[idx,:] = [x,y,z,zr,xr,yr]\n",
    "\n",
    "\n",
    "        \n",
    "    header = [\"x_tran\", \"y_tran\", \"z_tran\", \"z_rot\", \"x_rot\", \"y_rot\"]\n",
    "\n",
    "    np.savetxt(MVT_DIR + \"/fem_fft.jts\", jts_file, delimiter=',', header = \"x_trans, y_trans, z_trans, z_rot, x_rot, y_rot\", fmt = \"   %.2f\")"
   ]
  },
  {
   "cell_type": "code",
   "execution_count": 6,
   "metadata": {},
   "outputs": [
    {
     "name": "stdout",
     "output_type": "stream",
     "text": [
      "KneelLeft_1 tib_test_prediction_grid_Arizona_000000000000.tif\n",
      "KneelLeft_1 tib_test_prediction_grid_Arizona_000000000001.tif\n",
      "KneelLeft_1 tib_test_prediction_grid_Arizona_000000000002.tif\n",
      "KneelLeft_1 tib_test_prediction_grid_Arizona_000000000003.tif\n",
      "KneelLeft_1 tib_test_prediction_grid_Arizona_000000000004.tif\n",
      "KneelLeft_1 tib_test_prediction_grid_Arizona_000000000005.tif\n",
      "KneelRight_1 tib_test_prediction_grid_Arizona_000000000006.tif\n",
      "KneelRight_1 tib_test_prediction_grid_Arizona_000000000007.tif\n",
      "KneelRight_1 tib_test_prediction_grid_Arizona_000000000008.tif\n",
      "KneelRight_1 tib_test_prediction_grid_Arizona_000000000009.tif\n",
      "LungeLeft_1 tib_test_prediction_grid_Arizona_000000000010.tif\n",
      "LungeLeft_1 tib_test_prediction_grid_Arizona_000000000011.tif\n",
      "LungeLeft_1 tib_test_prediction_grid_Arizona_000000000012.tif\n",
      "LungeLeft_1 tib_test_prediction_grid_Arizona_000000000013.tif\n",
      "LungeLeft_1 tib_test_prediction_grid_Arizona_000000000014.tif\n",
      "LungeRight_1 tib_test_prediction_grid_Arizona_000000000016.tif\n",
      "LungeRight_1 tib_test_prediction_grid_Arizona_000000000017.tif\n",
      "LungeRight_1 tib_test_prediction_grid_Arizona_000000000018.tif\n",
      "LungeRight_1 tib_test_prediction_grid_Arizona_000000000019.tif\n",
      "LungeRight_1 tib_test_prediction_grid_Arizona_000000000020.tif\n",
      "LungeRight_1 tib_test_prediction_grid_Arizona_000000000021.tif\n",
      "LungeRight_1 tib_test_prediction_grid_Arizona_000000000022.tif\n",
      "StairLeft_1 tib_test_prediction_grid_Arizona_000000000023.tif\n",
      "StairLeft_1 tib_test_prediction_grid_Arizona_000000000024.tif\n",
      "StairLeft_1 tib_test_prediction_grid_Arizona_000000000025.tif\n",
      "StairLeft_1 tib_test_prediction_grid_Arizona_000000000026.tif\n",
      "StairLeft_1 tib_test_prediction_grid_Arizona_000000000027.tif\n",
      "StairLeft_1 tib_test_prediction_grid_Arizona_000000000028.tif\n",
      "StairLeft_1 tib_test_prediction_grid_Arizona_000000000029.tif\n",
      "StairLeft_1 tib_test_prediction_grid_Arizona_000000000031.tif\n",
      "StairLeft_2 tib_test_prediction_grid_Arizona_000000000032.tif\n",
      "StairLeft_2 tib_test_prediction_grid_Arizona_000000000033.tif\n",
      "StairLeft_2 tib_test_prediction_grid_Arizona_000000000034.tif\n"
     ]
    },
    {
     "name": "stderr",
     "output_type": "stream",
     "text": [
      "C:\\Users\\ajensen123\\.conda\\envs\\FFT\\lib\\site-packages\\scipy\\interpolate\\_fitpack_impl.py:227: RuntimeWarning: Setting x[0][527]=x[0][0]\n",
      "  (i, m, i)))\n",
      "C:\\Users\\ajensen123\\.conda\\envs\\FFT\\lib\\site-packages\\scipy\\interpolate\\_fitpack_impl.py:227: RuntimeWarning: Setting x[0][558]=x[0][0]\n",
      "  (i, m, i)))\n",
      "C:\\Users\\ajensen123\\.conda\\envs\\FFT\\lib\\site-packages\\scipy\\interpolate\\_fitpack_impl.py:227: RuntimeWarning: Setting x[0][529]=x[0][0]\n",
      "  (i, m, i)))\n",
      "C:\\Users\\ajensen123\\.conda\\envs\\FFT\\lib\\site-packages\\scipy\\interpolate\\_fitpack_impl.py:227: RuntimeWarning: Setting x[0][315]=x[0][0]\n",
      "  (i, m, i)))\n"
     ]
    }
   ],
   "source": [
    "HOME_DIR = \"C:/Datasets_FemCleaned/Arizona/Arizona_Organized/Patient_1/Session_1\"\n",
    "mvts = [\"KneelLeft_1\",\"KneelRight_1\",\"LungeLeft_1\", \"LungeRight_1\",\"StairLeft_1\", \"StairLeft_2\"]\n",
    "for mvt_id in mvts:\n",
    "    MVT_DIR = HOME_DIR + \"/\" + mvt_id\n",
    "    \n",
    "    centroid_library = np.load(MVT_DIR + \"/FFT/dc_tib.npy\")\n",
    "    mag_library = np.load(MVT_DIR + \"/FFT/mag_tib.npy\")\n",
    "    angle_library = np.load(MVT_DIR + \"/FFT/lib-angle_tib.npy\")\n",
    "    NFD_library = np.load(MVT_DIR + \"/FFT/surface_tib.npy\")\n",
    "    rot_indices = np.load(MVT_DIR + \"/FFT/rot_indices.npy\")\n",
    "\n",
    "    IMG_DIR = MVT_DIR + \"/1024/tib/\"\n",
    "\n",
    "    num = len(os.listdir(IMG_DIR))\n",
    "    jts_file = np.empty([num,6])\n",
    "\n",
    "    for idx, img_id in enumerate(os.listdir(IMG_DIR)):\n",
    "        img = cv2.imread(IMG_DIR + \"/\" + img_id,cv2.IMREAD_GRAYSCALE)\n",
    "        cal = MVT_DIR + \"/cal1024.txt\"\n",
    "        TIB_FFT = JTA_FFT(cal)\n",
    "        print(mvt_id, img_id)\n",
    "        x_input, y_input = TIB_FFT.create_contour(img)\n",
    "\n",
    "        centroid_instance, mag_instance, angle_instance, NFD_instance = TIB_FFT.get_NFD(x_input,y_input)\n",
    "\n",
    "        x, y, z, zr, xr, yr = TIB_FFT.estimate_pose(\n",
    "                                                rot_indices,\n",
    "                                                centroid_library, mag_library, angle_library, NFD_library,\n",
    "                                                centroid_instance, mag_instance, angle_instance, NFD_instance)\n",
    "\n",
    "        jts_file[idx,:] = [x,y,z,zr,xr,yr]\n",
    "\n",
    "\n",
    "        \n",
    "    header = [\"x_tran\", \"y_tran\", \"z_tran\", \"z_rot\", \"x_rot\", \"y_rot\"]\n",
    "\n",
    "    np.savetxt(MVT_DIR + \"/tib_fft.jts\", jts_file, delimiter=',', header = \"x_trans, y_trans, z_trans, z_rot, x_rot, y_rot\", fmt = \"   %.2f\")"
   ]
  }
 ],
 "metadata": {
  "interpreter": {
   "hash": "2bceb06609590509505fd7322ee93ae8f136ffe4549c928827b56f5da0a9e5f4"
  },
  "kernelspec": {
   "display_name": "Python 3.7.1 64-bit ('FFT': conda)",
   "name": "python3"
  },
  "language_info": {
   "codemirror_mode": {
    "name": "ipython",
    "version": 3
   },
   "file_extension": ".py",
   "mimetype": "text/x-python",
   "name": "python",
   "nbconvert_exporter": "python",
   "pygments_lexer": "ipython3",
   "version": "3.7.12"
  },
  "orig_nbformat": 4
 },
 "nbformat": 4,
 "nbformat_minor": 2
}
