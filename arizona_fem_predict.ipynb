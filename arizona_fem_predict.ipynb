{
 "cells": [
  {
   "cell_type": "code",
   "execution_count": 4,
   "source": [
    "import numpy as np\r\n",
    "import os\r\n",
    "import glob\r\n",
    "from JTA_FFT import JTA_FFT\r\n",
    "import cv2"
   ],
   "outputs": [],
   "metadata": {}
  },
  {
   "cell_type": "code",
   "execution_count": null,
   "source": [
    "HOME_DIR = \"C:/Datasets_FemCleaned/Arizona/Arizona_Organized/Patient_1/Session_1\"\r\n",
    "mvts = [\"KneelLeft_1\",\"KneelRight_1\",\"LungeLeft_1\", \"LungeRight_1\",\"StairLeft_1\", \"StairLeft_2\"]\r\n",
    "for mvt_id in mvts:\r\n",
    "    MVT_DIR = HOME_DIR + \"/\" + mvt_id\r\n",
    "    \r\n",
    "    centroid_library = np.load(MVT_DIR + \"/FFT/dc_fem.npy\")\r\n",
    "    mag_library = np.load(MVT_DIR + \"/FFT/mag_fem.npy\")\r\n",
    "    angle_library = np.load(MVT_DIR + \"/FFT/lib-angle_fem.npy\")\r\n",
    "    NFD_library = np.load(MVT_DIR + \"/FFT/surface_fem.npy\")\r\n",
    "    rot_indices = np.load(MVT_DIR + \"/FFT/rot_indices.npy\")\r\n",
    "\r\n",
    "    IMG_DIR = MVT_DIR + \"/1024/fem/\"\r\n",
    "\r\n",
    "    num = len(os.listdir(IMG_DIR))\r\n",
    "    jts_file = np.empty([num,6])\r\n",
    "\r\n",
    "    for idx, img_id in enumerate(os.listdir(IMG_DIR)):\r\n",
    "        img = cv2.imread(IMG_DIR + \"/\" + img_id,cv2.IMREAD_GRAYSCALE)\r\n",
    "        cal = MVT_DIR + \"/cal1024.txt\"\r\n",
    "        FEM_FFT = JTA_FFT(cal)\r\n",
    "        \r\n",
    "        x_input, y_input = FEM_FFT.create_contour(img)\r\n",
    "\r\n",
    "        centroid_instance, mag_instance, angle_instance, NFD_instance = FEM_FFT.get_NFD(x_input,y_input)\r\n",
    "\r\n",
    "        x, y, z, zr, xr, yr = FEM_FFT.estimate_pose(\r\n",
    "                                                rot_indices,\r\n",
    "                                                centroid_library, mag_library, angle_library, NFD_library,\r\n",
    "                                                centroid_instance, mag_instance, angle_instance, NFD_instance)\r\n",
    "\r\n",
    "        jts_file[idx,:] = [x,y,z,zr,xr,yr]\r\n",
    "\r\n",
    "\r\n",
    "        \r\n",
    "    header = [\"x_tran\", \"y_tran\", \"z_tran\", \"z_rot\", \"x_rot\", \"y_rot\"]\r\n",
    "\r\n",
    "    np.savetxt(MVT_DIR + \"/fem_fft.jts\", jts_file, delimiter=',', header = \"x_trans, y_trans, z_trans, z_rot, x_rot, y_rot\", fmt = \"   %.2f\")"
   ],
   "outputs": [],
   "metadata": {}
  },
  {
   "cell_type": "code",
   "execution_count": 6,
   "source": [
    "HOME_DIR = \"C:/Datasets_FemCleaned/Arizona/Arizona_Organized/Patient_1/Session_1\"\r\n",
    "mvts = [\"KneelLeft_1\",\"KneelRight_1\",\"LungeLeft_1\", \"LungeRight_1\",\"StairLeft_1\", \"StairLeft_2\"]\r\n",
    "for mvt_id in mvts:\r\n",
    "    MVT_DIR = HOME_DIR + \"/\" + mvt_id\r\n",
    "    \r\n",
    "    centroid_library = np.load(MVT_DIR + \"/FFT/dc_tib.npy\")\r\n",
    "    mag_library = np.load(MVT_DIR + \"/FFT/mag_tib.npy\")\r\n",
    "    angle_library = np.load(MVT_DIR + \"/FFT/lib-angle_tib.npy\")\r\n",
    "    NFD_library = np.load(MVT_DIR + \"/FFT/surface_tib.npy\")\r\n",
    "    rot_indices = np.load(MVT_DIR + \"/FFT/rot_indices.npy\")\r\n",
    "\r\n",
    "    IMG_DIR = MVT_DIR + \"/1024/tib/\"\r\n",
    "\r\n",
    "    num = len(os.listdir(IMG_DIR))\r\n",
    "    jts_file = np.empty([num,6])\r\n",
    "\r\n",
    "    for idx, img_id in enumerate(os.listdir(IMG_DIR)):\r\n",
    "        img = cv2.imread(IMG_DIR + \"/\" + img_id,cv2.IMREAD_GRAYSCALE)\r\n",
    "        cal = MVT_DIR + \"/cal1024.txt\"\r\n",
    "        TIB_FFT = JTA_FFT(cal)\r\n",
    "        print(mvt_id, img_id)\r\n",
    "        x_input, y_input = TIB_FFT.create_contour(img)\r\n",
    "\r\n",
    "        centroid_instance, mag_instance, angle_instance, NFD_instance = TIB_FFT.get_NFD(x_input,y_input)\r\n",
    "\r\n",
    "        x, y, z, zr, xr, yr = TIB_FFT.estimate_pose(\r\n",
    "                                                rot_indices,\r\n",
    "                                                centroid_library, mag_library, angle_library, NFD_library,\r\n",
    "                                                centroid_instance, mag_instance, angle_instance, NFD_instance)\r\n",
    "\r\n",
    "        jts_file[idx,:] = [x,y,z,zr,xr,yr]\r\n",
    "\r\n",
    "\r\n",
    "        \r\n",
    "    header = [\"x_tran\", \"y_tran\", \"z_tran\", \"z_rot\", \"x_rot\", \"y_rot\"]\r\n",
    "\r\n",
    "    np.savetxt(MVT_DIR + \"/tib_fft.jts\", jts_file, delimiter=',', header = \"x_trans, y_trans, z_trans, z_rot, x_rot, y_rot\", fmt = \"   %.2f\")"
   ],
   "outputs": [
    {
     "output_type": "stream",
     "name": "stdout",
     "text": [
      "KneelLeft_1 tib_test_prediction_grid_Arizona_000000000000.tif\n",
      "KneelLeft_1 tib_test_prediction_grid_Arizona_000000000001.tif\n",
      "KneelLeft_1 tib_test_prediction_grid_Arizona_000000000002.tif\n",
      "KneelLeft_1 tib_test_prediction_grid_Arizona_000000000003.tif\n",
      "KneelLeft_1 tib_test_prediction_grid_Arizona_000000000004.tif\n",
      "KneelLeft_1 tib_test_prediction_grid_Arizona_000000000005.tif\n",
      "KneelRight_1 tib_test_prediction_grid_Arizona_000000000006.tif\n",
      "KneelRight_1 tib_test_prediction_grid_Arizona_000000000007.tif\n",
      "KneelRight_1 tib_test_prediction_grid_Arizona_000000000008.tif\n",
      "KneelRight_1 tib_test_prediction_grid_Arizona_000000000009.tif\n",
      "LungeLeft_1 tib_test_prediction_grid_Arizona_000000000010.tif\n",
      "LungeLeft_1 tib_test_prediction_grid_Arizona_000000000011.tif\n",
      "LungeLeft_1 tib_test_prediction_grid_Arizona_000000000012.tif\n",
      "LungeLeft_1 tib_test_prediction_grid_Arizona_000000000013.tif\n",
      "LungeLeft_1 tib_test_prediction_grid_Arizona_000000000014.tif\n",
      "LungeRight_1 tib_test_prediction_grid_Arizona_000000000016.tif\n",
      "LungeRight_1 tib_test_prediction_grid_Arizona_000000000017.tif\n",
      "LungeRight_1 tib_test_prediction_grid_Arizona_000000000018.tif\n",
      "LungeRight_1 tib_test_prediction_grid_Arizona_000000000019.tif\n",
      "LungeRight_1 tib_test_prediction_grid_Arizona_000000000020.tif\n",
      "LungeRight_1 tib_test_prediction_grid_Arizona_000000000021.tif\n",
      "LungeRight_1 tib_test_prediction_grid_Arizona_000000000022.tif\n",
      "StairLeft_1 tib_test_prediction_grid_Arizona_000000000023.tif\n",
      "StairLeft_1 tib_test_prediction_grid_Arizona_000000000024.tif\n",
      "StairLeft_1 tib_test_prediction_grid_Arizona_000000000025.tif\n",
      "StairLeft_1 tib_test_prediction_grid_Arizona_000000000026.tif\n",
      "StairLeft_1 tib_test_prediction_grid_Arizona_000000000027.tif\n",
      "StairLeft_1 tib_test_prediction_grid_Arizona_000000000028.tif\n",
      "StairLeft_1 tib_test_prediction_grid_Arizona_000000000029.tif\n",
      "StairLeft_1 tib_test_prediction_grid_Arizona_000000000031.tif\n",
      "StairLeft_2 tib_test_prediction_grid_Arizona_000000000032.tif\n",
      "StairLeft_2 tib_test_prediction_grid_Arizona_000000000033.tif\n",
      "StairLeft_2 tib_test_prediction_grid_Arizona_000000000034.tif\n"
     ]
    },
    {
     "output_type": "stream",
     "name": "stderr",
     "text": [
      "C:\\Users\\ajensen123\\.conda\\envs\\FFT\\lib\\site-packages\\scipy\\interpolate\\_fitpack_impl.py:227: RuntimeWarning: Setting x[0][527]=x[0][0]\n",
      "  (i, m, i)))\n",
      "C:\\Users\\ajensen123\\.conda\\envs\\FFT\\lib\\site-packages\\scipy\\interpolate\\_fitpack_impl.py:227: RuntimeWarning: Setting x[0][558]=x[0][0]\n",
      "  (i, m, i)))\n",
      "C:\\Users\\ajensen123\\.conda\\envs\\FFT\\lib\\site-packages\\scipy\\interpolate\\_fitpack_impl.py:227: RuntimeWarning: Setting x[0][529]=x[0][0]\n",
      "  (i, m, i)))\n",
      "C:\\Users\\ajensen123\\.conda\\envs\\FFT\\lib\\site-packages\\scipy\\interpolate\\_fitpack_impl.py:227: RuntimeWarning: Setting x[0][315]=x[0][0]\n",
      "  (i, m, i)))\n"
     ]
    }
   ],
   "metadata": {}
  }
 ],
 "metadata": {
  "orig_nbformat": 4,
  "language_info": {
   "name": "python",
   "version": "3.7.1",
   "mimetype": "text/x-python",
   "codemirror_mode": {
    "name": "ipython",
    "version": 3
   },
   "pygments_lexer": "ipython3",
   "nbconvert_exporter": "python",
   "file_extension": ".py"
  },
  "kernelspec": {
   "name": "python3",
   "display_name": "Python 3.7.1 64-bit ('FFT': conda)"
  },
  "interpreter": {
   "hash": "2bceb06609590509505fd7322ee93ae8f136ffe4549c928827b56f5da0a9e5f4"
  }
 },
 "nbformat": 4,
 "nbformat_minor": 2
}