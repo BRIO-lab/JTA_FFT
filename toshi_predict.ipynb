{
 "cells": [
  {
   "cell_type": "code",
   "execution_count": 1,
   "source": [
    "import numpy as np\r\n",
    "import os\r\n",
    "import glob\r\n",
    "from JTA_FFT import JTA_FFT\r\n",
    "import cv2"
   ],
   "outputs": [],
   "metadata": {}
  },
  {
   "cell_type": "code",
   "execution_count": 2,
   "source": [
    "HOME_DIR = \"C:/Datasets_FemCleaned/Toshi/Toshi_Organized/\"\r\n",
    "pats = [\"Patient_10_Lt\", \"Patient_11_Lt\"]\r\n",
    "for pat in pats:\r\n",
    "    PAT_DIR = HOME_DIR + pat + \"/Session_1/\"\r\n",
    "\r\n",
    "    \r\n",
    "    for mvt_id in os.listdir(PAT_DIR):\r\n",
    "        MVT_DIR = PAT_DIR + \"/\" + mvt_id\r\n",
    "\r\n",
    "        centroid_library = np.load(MVT_DIR + \"/FFT/dc_fem.npy\")\r\n",
    "        mag_library = np.load(MVT_DIR + \"/FFT/mag_fem.npy\")\r\n",
    "        angle_library = np.load(MVT_DIR + \"/FFT/lib-angle_fem.npy\")\r\n",
    "        NFD_library = np.load(MVT_DIR + \"/FFT/surface_fem.npy\")\r\n",
    "        rot_indices = np.load(MVT_DIR + \"/FFT/rot_indices.npy\")\r\n",
    "\r\n",
    "        IMG_DIR = MVT_DIR + \"/1024/fem/\"\r\n",
    "\r\n",
    "        num = len(os.listdir(IMG_DIR))\r\n",
    "        jts_file = np.empty([num,6])\r\n",
    "\r\n",
    "        for idx, img_id in enumerate(os.listdir(IMG_DIR)):\r\n",
    "            img = cv2.imread(IMG_DIR + \"/\" + img_id,cv2.IMREAD_GRAYSCALE)\r\n",
    "            cal = MVT_DIR + \"/cal1024.txt\"\r\n",
    "            FEM_FFT = JTA_FFT(cal)\r\n",
    "\r\n",
    "            x_input, y_input = FEM_FFT.create_contour(img)\r\n",
    "\r\n",
    "            centroid_instance, mag_instance, angle_instance, NFD_instance = FEM_FFT.get_NFD(x_input,y_input)\r\n",
    "\r\n",
    "            x, y, z, zr, xr, yr = FEM_FFT.estimate_pose(\r\n",
    "                                                    rot_indices,\r\n",
    "                                                    centroid_library, mag_library, angle_library, NFD_library,\r\n",
    "                                                    centroid_instance, mag_instance, angle_instance, NFD_instance)\r\n",
    "\r\n",
    "            jts_file[idx,:] = [x,y,z,zr,xr,yr]\r\n",
    "\r\n",
    "\r\n",
    "\r\n",
    "        header = [\"x_tran\", \"y_tran\", \"z_tran\", \"z_rot\", \"x_rot\", \"y_rot\"]\r\n",
    "\r\n",
    "        np.savetxt(MVT_DIR + \"/fem_fft.jts\", jts_file, delimiter=',', header = \"x_trans, y_trans, z_trans, z_rot, x_rot, y_rot\", fmt = \"   %.2f\")"
   ],
   "outputs": [
    {
     "output_type": "error",
     "ename": "FileNotFoundError",
     "evalue": "[WinError 3] The system cannot find the path specified: 'C:/Datasets_FemCleaned/Toshi/Toshi_Organized/Patient_10_LtSession_1/'",
     "traceback": [
      "\u001b[1;31m---------------------------------------------------------------------------\u001b[0m",
      "\u001b[1;31mFileNotFoundError\u001b[0m                         Traceback (most recent call last)",
      "\u001b[1;32mC:\\Users\\AJENSE~1\\AppData\\Local\\Temp/ipykernel_31540/2680068731.py\u001b[0m in \u001b[0;36m<module>\u001b[1;34m\u001b[0m\n\u001b[0;32m      5\u001b[0m \u001b[1;33m\u001b[0m\u001b[0m\n\u001b[0;32m      6\u001b[0m \u001b[1;33m\u001b[0m\u001b[0m\n\u001b[1;32m----> 7\u001b[1;33m     \u001b[1;32mfor\u001b[0m \u001b[0mmvt_id\u001b[0m \u001b[1;32min\u001b[0m \u001b[0mos\u001b[0m\u001b[1;33m.\u001b[0m\u001b[0mlistdir\u001b[0m\u001b[1;33m(\u001b[0m\u001b[0mPAT_DIR\u001b[0m\u001b[1;33m)\u001b[0m\u001b[1;33m:\u001b[0m\u001b[1;33m\u001b[0m\u001b[1;33m\u001b[0m\u001b[0m\n\u001b[0m\u001b[0;32m      8\u001b[0m         \u001b[0mMVT_DIR\u001b[0m \u001b[1;33m=\u001b[0m \u001b[0mPAT_DIR\u001b[0m \u001b[1;33m+\u001b[0m \u001b[1;34m\"/\"\u001b[0m \u001b[1;33m+\u001b[0m \u001b[0mmvt_id\u001b[0m\u001b[1;33m\u001b[0m\u001b[1;33m\u001b[0m\u001b[0m\n\u001b[0;32m      9\u001b[0m \u001b[1;33m\u001b[0m\u001b[0m\n",
      "\u001b[1;31mFileNotFoundError\u001b[0m: [WinError 3] The system cannot find the path specified: 'C:/Datasets_FemCleaned/Toshi/Toshi_Organized/Patient_10_LtSession_1/'"
     ]
    }
   ],
   "metadata": {}
  },
  {
   "cell_type": "code",
   "execution_count": null,
   "source": [
    "HOME_DIR = \"C:/Datasets_FemCleaned/Toshi/Toshi_Organized/Patient_1/Session_1\"\r\n",
    "mvts = [\"KneelLeft_1\",\"KneelRight_1\",\"LungeLeft_1\", \"LungeRight_1\",\"StairLeft_1\", \"StairLeft_2\"]\r\n",
    "for mvt_id in mvts:\r\n",
    "    MVT_DIR = HOME_DIR + \"/\" + mvt_id\r\n",
    "    \r\n",
    "    centroid_library = np.load(MVT_DIR + \"/FFT/dc_tib.npy\")\r\n",
    "    mag_library = np.load(MVT_DIR + \"/FFT/mag_tib.npy\")\r\n",
    "    angle_library = np.load(MVT_DIR + \"/FFT/lib-angle_tib.npy\")\r\n",
    "    NFD_library = np.load(MVT_DIR + \"/FFT/surface_tib.npy\")\r\n",
    "    rot_indices = np.load(MVT_DIR + \"/FFT/rot_indices.npy\")\r\n",
    "\r\n",
    "    IMG_DIR = MVT_DIR + \"/1024/tib/\"\r\n",
    "\r\n",
    "    num = len(os.listdir(IMG_DIR))\r\n",
    "    jts_file = np.empty([num,6])\r\n",
    "\r\n",
    "    for idx, img_id in enumerate(os.listdir(IMG_DIR)):\r\n",
    "        img = cv2.imread(IMG_DIR + \"/\" + img_id,cv2.IMREAD_GRAYSCALE)\r\n",
    "        cal = MVT_DIR + \"/cal1024.txt\"\r\n",
    "        TIB_FFT = JTA_FFT(cal)\r\n",
    "        print(mvt_id, img_id)\r\n",
    "        x_input, y_input = TIB_FFT.create_contour(img)\r\n",
    "\r\n",
    "        centroid_instance, mag_instance, angle_instance, NFD_instance = TIB_FFT.get_NFD(x_input,y_input)\r\n",
    "\r\n",
    "        x, y, z, zr, xr, yr = TIB_FFT.estimate_pose(\r\n",
    "                                                rot_indices,\r\n",
    "                                                centroid_library, mag_library, angle_library, NFD_library,\r\n",
    "                                                centroid_instance, mag_instance, angle_instance, NFD_instance)\r\n",
    "\r\n",
    "        jts_file[idx,:] = [x,y,z,zr,xr,yr]\r\n",
    "\r\n",
    "\r\n",
    "        \r\n",
    "    header = [\"x_tran\", \"y_tran\", \"z_tran\", \"z_rot\", \"x_rot\", \"y_rot\"]\r\n",
    "\r\n",
    "    np.savetxt(MVT_DIR + \"/tib_fft.jts\", jts_file, delimiter=',', header = \"x_trans, y_trans, z_trans, z_rot, x_rot, y_rot\", fmt = \"   %.2f\")"
   ],
   "outputs": [],
   "metadata": {}
  }
 ],
 "metadata": {
  "orig_nbformat": 4,
  "language_info": {
   "name": "python",
   "version": "3.7.1",
   "mimetype": "text/x-python",
   "codemirror_mode": {
    "name": "ipython",
    "version": 3
   },
   "pygments_lexer": "ipython3",
   "nbconvert_exporter": "python",
   "file_extension": ".py"
  },
  "kernelspec": {
   "name": "python3",
   "display_name": "Python 3.7.1 64-bit ('FFT': conda)"
  },
  "interpreter": {
   "hash": "2bceb06609590509505fd7322ee93ae8f136ffe4549c928827b56f5da0a9e5f4"
  }
 },
 "nbformat": 4,
 "nbformat_minor": 2
}